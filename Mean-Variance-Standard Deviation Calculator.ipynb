{
 "cells": [
  {
   "cell_type": "markdown",
   "id": "f7687501-ac73-4d30-8950-9735f6715e00",
   "metadata": {},
   "source": [
    "# Mean-Variance-Standard Deviation Calculator\n",
    "You will be working on this project with our Gitpod starter code.\n",
    "\n",
    "We are still developing the interactive instructional part of the Python curriculum. For now, here are some videos on the freeCodeCamp.org YouTube channel that will teach you everything you need to know to complete this project:\n",
    "\n",
    "Python for Everybody Video Course (14 hours)\n",
    "\n",
    "How to Analyze Data with Python Pandas (10 hours)\n",
    "\n",
    "Create a function named calculate() in mean_var_std.py that uses Numpy to output the mean, variance, standard deviation, max, min, and sum of the rows, columns, and elements in a 3 x 3 matrix.\n",
    "\n",
    "The input of the function should be a list containing 9 digits. The function should convert the list into a 3 x 3 Numpy array, and then return a dictionary containing the mean, variance, standard deviation, max, min, and sum along both axes and for the flattened matrix.\n",
    "\n",
    "The returned dictionary should follow this format:"
   ]
  },
  {
   "cell_type": "code",
   "execution_count": null,
   "id": "84ec21f4-8d59-4860-8c10-84aa3506068c",
   "metadata": {},
   "outputs": [],
   "source": [
    "{\n",
    "  'mean': [axis1, axis2, flattened],\n",
    "  'variance': [axis1, axis2, flattened],\n",
    "  'standard deviation': [axis1, axis2, flattened],\n",
    "  'max': [axis1, axis2, flattened],\n",
    "  'min': [axis1, axis2, flattened],\n",
    "  'sum': [axis1, axis2, flattened]\n",
    "}"
   ]
  },
  {
   "cell_type": "markdown",
   "id": "870886b4-27c4-4e19-9bfd-871d5657144a",
   "metadata": {},
   "source": [
    "## If a list containing less than 9 elements is passed into the function, it should raise a ValueError exception with the message: \"List must contain nine numbers.\" The values in the returned dictionary should be lists and not Numpy arrays.\n",
    "\n",
    "For example, calculate([0,1,2,3,4,5,6,7,8]) should return:"
   ]
  },
  {
   "cell_type": "code",
   "execution_count": null,
   "id": "e7d0b750-b8b0-474a-9163-f0f2bbfc8d23",
   "metadata": {},
   "outputs": [],
   "source": [
    "#For example, calculate([0,1,2,3,4,5,6,7,8]) should return:\n",
    "\n",
    "{\n",
    "  'mean': [[3.0, 4.0, 5.0], [1.0, 4.0, 7.0], 4.0],\n",
    "  'variance': [[6.0, 6.0, 6.0], [0.6666666666666666, 0.6666666666666666, 0.6666666666666666], 6.666666666666667],\n",
    "  'standard deviation': [[2.449489742783178, 2.449489742783178, 2.449489742783178], [0.816496580927726, 0.816496580927726, 0.816496580927726], 2.581988897471611],\n",
    "  'max': [[6, 7, 8], [2, 5, 8], 8],\n",
    "  'min': [[0, 1, 2], [0, 3, 6], 0],\n",
    "  'sum': [[9, 12, 15], [3, 12, 21], 36]\n",
    "}"
   ]
  },
  {
   "cell_type": "markdown",
   "id": "f42f4879-e137-40f9-8940-8557b5f9004c",
   "metadata": {},
   "source": [
    "# Development\n",
    "Write your code in mean_var_std.py. For development, you can use main.py to test your code. In order to run your code, type python3 main.py into the GitPod terminal and hit enter. This will cause the included CPython interpreter to run the main.py file.\n"
   ]
  },
  {
   "cell_type": "markdown",
   "id": "b190d723-7483-4577-9b4b-6fe289d5c53e",
   "metadata": {},
   "source": [
    "## To create the function calculate() in mean_var_std.py that calculates the mean, variance, standard deviation, max, min, and sum along the rows, columns, and for the entire 3x3 matrix, LET;S follow these steps:\n",
    "\n",
    "1. Here’s how to implement the function:"
   ]
  },
  {
   "cell_type": "code",
   "execution_count": null,
   "id": "03c5c5c8-1e09-4469-bca5-019b02db439b",
   "metadata": {},
   "outputs": [],
   "source": [
    "import numpy as np\n",
    "\n",
    "def calculate(lst):\n",
    "    # Convert the list into a 3x3 Numpy array\n",
    "    matrix = np.array(lst).reshape(3, 3)\n",
    "\n",
    "    # Create a dictionary to hold the results\n",
    "    results = {\n",
    "        'mean': [np.mean(matrix, axis=0), np.mean(matrix, axis=1), np.mean(matrix)],\n",
    "        'variance': [np.var(matrix, axis=0), np.var(matrix, axis=1), np.var(matrix)],\n",
    "        'standard deviation': [np.std(matrix, axis=0), np.std(matrix, axis=1), np.std(matrix)],\n",
    "        'max': [np.max(matrix, axis=0), np.max(matrix, axis=1), np.max(matrix)],\n",
    "        'min': [np.min(matrix, axis=0), np.min(matrix, axis=1), np.min(matrix)],\n",
    "        'sum': [np.sum(matrix, axis=0), np.sum(matrix, axis=1), np.sum(matrix)],\n",
    "    }\n",
    "\n",
    "    return results"
   ]
  },
  {
   "cell_type": "markdown",
   "id": "dc70159f-e81f-4793-a96a-7ea42a60d6c4",
   "metadata": {},
   "source": [
    "## Explanation:\n",
    "Input: The function calculate() takes in a list of 9 digits (lst), which is converted into a 3x3 Numpy array using .reshape(3, 3).\n",
    "\n",
    "Calculations:\n",
    "\n",
    "np.mean(): Computes the mean. Using axis=0 computes the mean along columns, axis=1 computes the mean along rows, and without an axis computes the overall mean (flattened).\n",
    "\n",
    "np.var(): Computes the variance (like mean but with squared differences).\n",
    "\n",
    "np.std(): Computes the standard deviation (square root of variance).\n",
    "\n",
    "np.max(): Finds the maximum values.\n",
    "\n",
    "np.min(): Finds the minimum values.\n",
    "\n",
    "np.sum(): Computes the sum of elements."
   ]
  },
  {
   "cell_type": "markdown",
   "id": "ff105986-26b4-4da3-be98-35a5fe107957",
   "metadata": {},
   "source": [
    "## Results: The results are stored in a dictionary with the following format:"
   ]
  },
  {
   "cell_type": "code",
   "execution_count": null,
   "id": "9cd612a5-a298-496d-9273-9b1d26b746b7",
   "metadata": {},
   "outputs": [],
   "source": [
    "{\n",
    "  'mean': [mean_along_columns, mean_along_rows, mean_flattened],\n",
    "  'variance': [variance_along_columns, variance_along_rows, variance_flattened],\n",
    "  'standard deviation': [std_along_columns, std_along_rows, std_flattened],\n",
    "  'max': [max_along_columns, max_along_rows, max_flattened],\n",
    "  'min': [min_along_columns, min_along_rows, min_flattened],\n",
    "  'sum': [sum_along_columns, sum_along_rows, sum_flattened]\n",
    "}\n"
   ]
  },
  {
   "cell_type": "markdown",
   "id": "20a56a78-11c1-4bd8-b684-e75c9d2bd142",
   "metadata": {},
   "source": [
    "# Testing\n",
    "The unit tests for this project are in test_module.py. We imported the tests from test_module.py to main.py for your convenience.\n"
   ]
  },
  {
   "cell_type": "markdown",
   "id": "9ad7e144-b87d-4c57-b80a-ef44f230173e",
   "metadata": {},
   "source": [
    "## Example:\n",
    "Let’s test the function with an example:"
   ]
  },
  {
   "cell_type": "code",
   "execution_count": null,
   "id": "9cc78733-8293-4928-bfec-e06348794df0",
   "metadata": {},
   "outputs": [],
   "source": [
    "lst = [1, 2, 3, 4, 5, 6, 7, 8, 9]\n",
    "result = calculate(lst)\n",
    "print(result)\n"
   ]
  },
  {
   "cell_type": "markdown",
   "id": "cc38404f-3562-4be3-9c00-ead9742c762a",
   "metadata": {},
   "source": [
    "## Output:"
   ]
  },
  {
   "cell_type": "code",
   "execution_count": null,
   "id": "c17bd837-ef3c-4048-a10d-e3a9c41fbdbd",
   "metadata": {},
   "outputs": [],
   "source": [
    "{\n",
    "  'mean': [array([4., 5., 6.]), array([2., 5., 8.]), 5.0],\n",
    "  'variance': [array([6., 6., 6.]), array([6., 6., 6.]), 6.666666666666667],\n",
    "  'standard deviation': [array([2.44948974, 2.44948974, 2.44948974]), array([2.44948974, 2.44948974, 2.44948974]), 2.581988897471611],\n",
    "  'max': [array([7, 8, 9]), array([3, 6, 9]), 9],\n",
    "  'min': [array([1, 2, 3]), array([1, 4, 7]), 1],\n",
    "  'sum': [array([12, 15, 18]), array([6, 15, 24]), 45]\n",
    "}\n"
   ]
  },
  {
   "cell_type": "markdown",
   "id": "4e274418-981a-4bc8-bc8d-321e02f08173",
   "metadata": {},
   "source": [
    "## COMMENTS: \n",
    "This will calculate and return the required statistics for the 3x3 matrix as described."
   ]
  },
  {
   "cell_type": "markdown",
   "id": "22e75219-afc5-47b0-aa3d-d63b896fdf32",
   "metadata": {},
   "source": [
    "# Submitting\n",
    "Copy your project's URL and submit it to freeCodeCamp."
   ]
  },
  {
   "cell_type": "code",
   "execution_count": null,
   "id": "d63ed39f-c943-4438-8a4e-4f63cf47dca5",
   "metadata": {},
   "outputs": [],
   "source": [
    "Copy your project's URL and submit it to freeCodeCamp: "
   ]
  },
  {
   "cell_type": "code",
   "execution_count": null,
   "id": "6d0e5975-ff35-45d7-82f8-d3c390a31ab0",
   "metadata": {},
   "outputs": [],
   "source": []
  }
 ],
 "metadata": {
  "kernelspec": {
   "display_name": "anaconda-panel-2023.05-py310",
   "language": "python",
   "name": "conda-env-anaconda-panel-2023.05-py310-py"
  },
  "language_info": {
   "codemirror_mode": {
    "name": "ipython",
    "version": 3
   },
   "file_extension": ".py",
   "mimetype": "text/x-python",
   "name": "python",
   "nbconvert_exporter": "python",
   "pygments_lexer": "ipython3",
   "version": "3.11.5"
  }
 },
 "nbformat": 4,
 "nbformat_minor": 5
}
